{
 "cells": [
  {
   "cell_type": "code",
   "execution_count": 32,
   "metadata": {},
   "outputs": [],
   "source": [
    "import pandas as pd\n",
    "import numpy as np\n",
    "import matplotlib.pyplot as plt\n",
    "from sklearn.model_selection import train_test_split\n",
    "from sklearn.neighbors import KNeighborsClassifier"
   ]
  },
  {
   "cell_type": "code",
   "execution_count": 4,
   "metadata": {},
   "outputs": [
    {
     "data": {
      "text/plain": [
       "[[2.1, 6.4, 1],\n",
       " [3.8, 2.2, 1],\n",
       " [15.7, 4.4, 1],\n",
       " [26.7, 4.6, 1],\n",
       " [10.7, 4.9, 1],\n",
       " [11.3, 5.1, 1],\n",
       " [120.7, 3.1, 1],\n",
       " [140.3, 4.1, 1],\n",
       " [30.0, 5.1, 1],\n",
       " [45.0, 4.2, 1],\n",
       " [80.0, 3.7, 1],\n",
       " [20.0, 5.2, 1],\n",
       " [100.0, 4.0, 1],\n",
       " [80.0, 4.0, 1],\n",
       " [70.0, 1.5, 1],\n",
       " [40.0, 1.0, 0],\n",
       " [100.0, 2.0, 0],\n",
       " [40.0, 2.7, 0],\n",
       " [63.0, 1.5, 0],\n",
       " [0.7, 1.2, 0],\n",
       " [0.5, 0.8, 0],\n",
       " [0.8, 1.5, 0],\n",
       " [0.2, 1.1, 0],\n",
       " [0.1, 0.8, 0],\n",
       " [20.0, 2.2, 0],\n",
       " [60.0, 2.1, 0],\n",
       " [105.0, 0.4, 0],\n",
       " [10.0, 1.2, 0],\n",
       " [15.0, 1.7, 0],\n",
       " [12.0, 1.0, 0]]"
      ]
     },
     "execution_count": 4,
     "metadata": {},
     "output_type": "execute_result"
    }
   ],
   "source": [
    "transactions = []\n",
    "f = open(\"./CSVs-Data/transactions.csv\", \"r\")\n",
    "for line in f:\n",
    "    line = line.split(',')\n",
    "    l1 = [float(line[0]), float(line[1]), int(line[2])]\n",
    "    transactions.append(l1)\n",
    "\n",
    "transactions"
   ]
  },
  {
   "cell_type": "code",
   "execution_count": 5,
   "metadata": {},
   "outputs": [],
   "source": [
    "def euclidean(instance1, instance2):\n",
    "    distance = 0\n",
    "    for x in range(0,2):\n",
    "        distance += pow((instance1[x] - instance2[x]), 2)\n",
    "    return np.sqrt(distance)"
   ]
  },
  {
   "cell_type": "code",
   "execution_count": 12,
   "metadata": {},
   "outputs": [],
   "source": [
    "# Write a get_distances/2 function that calculates the distance between a query and each instance in out dataset. Remember to keep track of the corresponding instance ID too, not only of the distance. Sort the list so that the closest item is at the top.\n",
    "def get_distance(transactions , query):\n",
    "    distances = []\n",
    "    for i in range(len(transactions)):\n",
    "        dist = euclidean(query, transactions[i])\n",
    "        distances.append((transactions[i], dist))\n",
    "    \n",
    "    distances.sort(key=lambda x: x[1])\n",
    "\n",
    "    return distances\n",
    "\n",
    "\n",
    "def knn_estimate(data, query, k =5):\n",
    "    distances = get_distance(data, query)\n",
    "\n",
    "    # Get the first k elements from the list\n",
    "    neighbors = []\n",
    "    for x in range(k):\n",
    "        neighbors.append(distances[x][0])\n",
    "\n",
    "    # Get majority level of k neighbors\n",
    "    output_values = [row[-1] for row in neighbors]\n",
    "    prediction = max(set(output_values), key=output_values.count)\n",
    "\n",
    "    return prediction\n"
   ]
  },
  {
   "cell_type": "code",
   "execution_count": 50,
   "metadata": {},
   "outputs": [
    {
     "name": "stdout",
     "output_type": "stream",
     "text": [
      "[1, 1, 0, 0, 0]\n",
      "0\n",
      "0\n",
      "[0, 1, 1, 0, 0]\n",
      "0\n",
      "0\n",
      "[1, 1, 0, 1, 0, 1, 1, 1, 0, 0, 1, 0, 0, 1, 1, 1, 0, 1, 0, 0, 1, 1, 0, 1, 1, 0, 0, 0, 0, 0]\n",
      "0\n",
      "0\n"
     ]
    }
   ],
   "source": [
    "print(knn_estimate(transactions, [30, 2], k=5))\n",
    "print(knn_estimate(transactions, [10, 3], k=5))\n",
    "print(knn_estimate(transactions, [200, 6], 30))"
   ]
  },
  {
   "cell_type": "code",
   "execution_count": 51,
   "metadata": {},
   "outputs": [
    {
     "name": "stdout",
     "output_type": "stream",
     "text": [
      "   mass  height\n",
      "0   192     7.3\n",
      "1   180     6.8\n",
      "2   176     7.2\n",
      "3    86     4.7\n",
      "4    84     4.6\n",
      "targets\n",
      "0       apple\n",
      "1       apple\n",
      "2       apple\n",
      "3    mandarin\n",
      "4    mandarin\n",
      "Name: fruit_name, dtype: object\n"
     ]
    }
   ],
   "source": [
    "# Dataframe from fruit_data.txt\n",
    "data = pd.read_csv('./CSVs-Data/fruit_data.txt', sep='\\t')\n",
    "\n",
    "# split data into features and target (featurs = mass, height)\n",
    "predictive_features = data[['mass', 'height']]\n",
    "\n",
    "print(predictive_features.head())\n",
    "\n",
    "targets = data['fruit_name']\n",
    "print(\"targets\")\n",
    "print(targets.head())\n",
    "\n",
    "\n",
    "# Use train_test_split to split the data into training and testing sets\n",
    "X_train, X_test, y_train, y_test = train_test_split(predictive_features, targets, random_state=3000)\n"
   ]
  },
  {
   "cell_type": "code",
   "execution_count": 52,
   "metadata": {},
   "outputs": [
    {
     "data": {
      "text/plain": [
       "0.4666666666666667"
      ]
     },
     "execution_count": 52,
     "metadata": {},
     "output_type": "execute_result"
    }
   ],
   "source": [
    "knn = KNeighborsClassifier(n_neighbors=3)\n",
    "knn.fit(X_train, y_train)\n",
    "knn.score(X_test, y_test)\n"
   ]
  },
  {
   "cell_type": "code",
   "execution_count": 54,
   "metadata": {},
   "outputs": [
    {
     "name": "stdout",
     "output_type": "stream",
     "text": [
      "['mandarin']\n"
     ]
    },
    {
     "name": "stderr",
     "output_type": "stream",
     "text": [
      "/Users/xsmoked/miniforge3/lib/python3.10/site-packages/sklearn/base.py:493: UserWarning: X does not have valid feature names, but KNeighborsClassifier was fitted with feature names\n",
      "  warnings.warn(\n"
     ]
    }
   ],
   "source": [
    "query = knn.predict([[21, 5.4]])\n",
    "print(query)"
   ]
  },
  {
   "cell_type": "code",
   "execution_count": 55,
   "metadata": {},
   "outputs": [
    {
     "data": {
      "text/plain": [
       "<matplotlib.collections.PathCollection at 0x168191c00>"
      ]
     },
     "execution_count": 55,
     "metadata": {},
     "output_type": "execute_result"
    },
    {
     "data": {
      "image/png": "[encoded data removed]",
      "text/plain": [
       "<Figure size 640x480 with 1 Axes>"
      ]
     },
     "metadata": {},
     "output_type": "display_data"
    }
   ],
   "source": [
    "colors_map = {'apple': 'red', 'mandarin': 'blue', 'orange':'orange', 'lemon':'yellow'}\n",
    "colors = [colors_map[c] for c in y_train]\n",
    "plt.scatter(X_train.mass, X_train.height, c = colors)"
   ]
  },
  {
   "cell_type": "code",
   "execution_count": 40,
   "metadata": {},
   "outputs": [
    {
     "name": "stdout",
     "output_type": "stream",
     "text": [
      "[5250000]\n"
     ]
    },
    {
     "name": "stderr",
     "output_type": "stream",
     "text": [
      "/Users/xsmoked/miniforge3/lib/python3.10/site-packages/sklearn/base.py:493: UserWarning: X does not have valid feature names, but KNeighborsClassifier was fitted with feature names\n",
      "  warnings.warn(\n"
     ]
    }
   ],
   "source": [
    "# Read Housing.csv\n",
    "housing = pd.read_csv('./CSVs-Data/Housing.csv')\n",
    "housing.head()\n",
    "\n",
    "targets = housing['price']\n",
    "\n",
    "predictive_features = housing.drop('price', axis=1)\n",
    "\n",
    "headers = predictive_features.columns\n",
    "\n",
    "# Change all yes and no to 1 and 0\n",
    "predictive_features = predictive_features.replace({'yes': 1, 'no': 0})\n",
    "predictive_features = predictive_features.replace({'furnished': 0, 'semi-furnished': 1, 'unfurnished': 2})\n",
    "\n",
    "\n",
    "X_train, X_test, y_train, y_test = train_test_split(predictive_features, targets, random_state=3000)\n",
    "\n",
    "knn = KNeighborsClassifier(n_neighbors=3)\n",
    "knn.fit(X_train, y_train)\n",
    "knn.score(X_test, y_test)\n",
    "\n",
    "query = knn.predict([[ 8580,4,3,4,1,0,0,0,1,2,1,1 ]])\n",
    "\n",
    "print(query)\n",
    "\n"
   ]
  }
 ],
 "metadata": {
  "kernelspec": {
   "display_name": "base",
   "language": "python",
   "name": "python3"
  },
  "language_info": {
   "codemirror_mode": {
    "name": "ipython",
    "version": 3
   },
   "file_extension": ".py",
   "mimetype": "text/x-python",
   "name": "python",
   "nbconvert_exporter": "python",
   "pygments_lexer": "ipython3",
   "version": "3.10.12"
  }
 },
 "nbformat": 4,
 "nbformat_minor": 2
}
