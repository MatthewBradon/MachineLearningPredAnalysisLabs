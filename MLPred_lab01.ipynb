{
 "cells": [
  {
   "cell_type": "code",
   "execution_count": 8,
   "metadata": {},
   "outputs": [
    {
     "name": "stdout",
     "output_type": "stream",
     "text": [
      "32 default\n",
      "33 default\n",
      "34 repaid\n",
      "36 default\n",
      "37 repaid\n",
      "40 repaid\n",
      "41 default\n",
      "41 default\n",
      "48 default\n",
      "61 repaid\n"
     ]
    }
   ],
   "source": [
    "import os\n",
    "import pandas as pd\n",
    "\n",
    "with open('/Users/xsmoked/Desktop/ML_Pred_Labs/CSVs-Data/loans.csv', encoding='utf-8-sig') as csvfile:\n",
    "    # Sorted csv by age\n",
    "    csvreader = csv.reader(csvfile)\n",
    "\n",
    "    # Sort by age\n",
    "    sort = sorted(csvreader, key=lambda row: row[2])\n",
    "\n",
    "    # Print the sorted csv\n",
    "    for row in sort:\n",
    "        print(row[2] + ' ' + row[-1])\n"
   ]
  },
  {
   "cell_type": "code",
   "execution_count": 15,
   "metadata": {},
   "outputs": [
    {
     "name": "stdout",
     "output_type": "stream",
     "text": [
      "9    32\n",
      "8    33\n",
      "0    34\n",
      "2    36\n",
      "6    37\n",
      "7    40\n",
      "1    41\n",
      "3    41\n",
      "4    48\n",
      "5    61\n",
      "Name: 2, dtype: int64\n",
      "61\n"
     ]
    }
   ],
   "source": [
    "loans = pd.read_csv('/Users/xsmoked/Desktop/ML_Pred_Labs/CSVs-Data/loans.csv', header=None)\n",
    "\n",
    "\n",
    "# Sort by age\n",
    "loans.sort_values(by=2, inplace=True)\n",
    "\n",
    "# Print the sorted csv\n",
    "print(loans[2])\n",
    "print(loans[2][5])"
   ]
  }
 ],
 "metadata": {
  "kernelspec": {
   "display_name": "Python 3 (ipykernel)",
   "language": "python",
   "name": "python3"
  },
  "language_info": {
   "codemirror_mode": {
    "name": "ipython",
    "version": 3
   },
   "file_extension": ".py",
   "mimetype": "text/x-python",
   "name": "python",
   "nbconvert_exporter": "python",
   "pygments_lexer": "ipython3",
   "version": "3.10.12"
  }
 },
 "nbformat": 4,
 "nbformat_minor": 2
}
